{
 "cells": [
  {
   "cell_type": "markdown",
   "metadata": {
    "id": "Cj3g7_Xjv0cQ"
   },
   "source": [
    "# Lab 01 - Bài tập"
   ]
  },
  {
   "cell_type": "markdown",
   "metadata": {
    "id": "uHya_O8Nv9Bg"
   },
   "source": [
    "## PYTHON\n",
    "\n",
    "1. Viết chương trình nhập vào số nguyên n (n>0). In ra các số nguyên tố từ 1..100\n"
   ]
  },
  {
   "cell_type": "code",
   "execution_count": 16,
   "metadata": {},
   "outputs": [],
   "source": [
    "def ktra(n):\n",
    "\n",
    "    dem =0\n",
    "    for i in range (1,n+1):\n",
    "        if(n%i==0):\n",
    "            dem+=1 \n",
    "    \n",
    "    return (dem==1)"
   ]
  },
  {
   "cell_type": "code",
   "execution_count": 18,
   "metadata": {},
   "outputs": [],
   "source": [
    "n=100\n",
    "\n",
    "if ktra(n):\n",
    "    print(i)\n",
    "    "
   ]
  },
  {
   "cell_type": "markdown",
   "metadata": {
    "id": "XpmGHRLRxx34"
   },
   "source": [
    "2. Viết chương trình nhập vào số nguyên n có 3 chữ số. Tính tổng các chữ số của n"
   ]
  },
  {
   "cell_type": "code",
   "execution_count": 9,
   "metadata": {
    "id": "AXOFJ9Iwvtvh"
   },
   "outputs": [
    {
     "name": "stdout",
     "output_type": "stream",
     "text": [
      "nhap n123\n",
      "6\n"
     ]
    }
   ],
   "source": [
    "n=int (input(\"nhap n\"))\n",
    "s=int (0) \n",
    "while(n!=0):\n",
    "    s+=n%10\n",
    "    n =int(n/10)\n",
    "    \n",
    "print(s)"
   ]
  },
  {
   "cell_type": "markdown",
   "metadata": {
    "id": "oba6gvmwyFrZ"
   },
   "source": [
    "3. Viết chương trình nhập vào một dãy các số nguyên được cách nhau bởi khoảng trắng (VD: 32 8 4 6 9...) lưu vào python ở dạng mảng. Thực hiện\n",
    "\n",
    "- Xuất mảng\n",
    "- Tính tổng các phần tử của mảng\n",
    "- Tìm số lớn nhất\n",
    "- Tìm số bé nhất\n",
    "- Sắp xếp mảng theo thứ tự giảm dần\n",
    "- In ra các số chẵn trong mảng"
   ]
  },
  {
   "cell_type": "code",
   "execution_count": 12,
   "metadata": {
    "id": "9XBwANmGyFyY"
   },
   "outputs": [
    {
     "name": "stdout",
     "output_type": "stream",
     "text": [
      "nhap so phan tu mang 3\n",
      "nhap1\n",
      "nhap2\n",
      "nhap4\n"
     ]
    }
   ],
   "source": [
    "n=int (input (\"nhap so phan tu mang \"))\n",
    "a=[]\n",
    "for i in range (n):\n",
    "    a.append(input(\"nhap\"))\n",
    "\n",
    "for i in range (n)"
   ]
  },
  {
   "cell_type": "markdown",
   "metadata": {
    "id": "hgGOt_Cxyulx"
   },
   "source": [
    "4. Viết chương trình yêu cầu người dùng nhập họ tên. Hiển thị tên người dùng sau khi đã chuẩn hóa. Biết rằng tên đã chuẩn hóa là:\n",
    "- Ký tự đầu viết hoa\n",
    "- Không có khoảng trắng thừa\n",
    "- Không có ký tự đặc biệt"
   ]
  },
  {
   "cell_type": "code",
   "execution_count": null,
   "metadata": {
    "id": "duR4BF8Dyu_w"
   },
   "outputs": [],
   "source": []
  },
  {
   "cell_type": "markdown",
   "metadata": {
    "id": "W5KucasA0NSA"
   },
   "source": [
    "5. Viết chương trình nhập vào một số nguyên dương (n>0). Cho biết n có phải là số đối xứng hay không? Biết số đối xứng là số viết xuôi hay viết ngược đều như nhau"
   ]
  },
  {
   "cell_type": "code",
   "execution_count": null,
   "metadata": {
    "id": "FTH5V3je0YPg"
   },
   "outputs": [],
   "source": []
  },
  {
   "cell_type": "markdown",
   "metadata": {
    "id": "MKtdKtm6v91Y"
   },
   "source": [
    "## NUMPY\n",
    "\n",
    "Bạn hãy phát sinh ngẫu nhiên mảng ndarray có tên `arr` gồm 100 phần tử số nguyên có giá trị từ 0..1000. Thực hiện các thao tác sau:"
   ]
  },
  {
   "cell_type": "markdown",
   "metadata": {
    "id": "QEldaGw70sGI"
   },
   "source": [
    "6. Hiển thị các phần tử thỏa yêu cầu dưới đây\n",
    "\n",
    "- 10 phần tử đầu tiên\n",
    "- 5 phần tử cuối cùng\n",
    "- Các phần tử thỏa mãn điều kiện chia hết cho 5 và lớn hơn 100"
   ]
  },
  {
   "cell_type": "code",
   "execution_count": null,
   "metadata": {
    "id": "2M-5p9mqxDxJ"
   },
   "outputs": [],
   "source": []
  },
  {
   "cell_type": "markdown",
   "metadata": {
    "id": "JGdigfCp0dgH"
   },
   "source": [
    "7. Cho biết mảng trên có bao nhiêu phần tử có giá trị nhỏ hơn 100. Hiển thị các phần tử đó"
   ]
  },
  {
   "cell_type": "code",
   "execution_count": null,
   "metadata": {
    "id": "pZzzctoo0cOn"
   },
   "outputs": [],
   "source": []
  },
  {
   "cell_type": "markdown",
   "metadata": {
    "id": "QhTukTC70ZgP"
   },
   "source": [
    "8. Thực hiện thống kê:\n",
    "\n",
    "- Tính tổng mảng\n",
    "- Tìm giá trị trung bình\n",
    "- Tìm giá trị trung vị\n",
    "- Tìm Q1, Q2, Q3\n",
    "- Tìm phân vị 20 (percentile 20)"
   ]
  },
  {
   "cell_type": "code",
   "execution_count": null,
   "metadata": {
    "id": "yIPKE0-20sGI"
   },
   "outputs": [],
   "source": []
  },
  {
   "cell_type": "markdown",
   "metadata": {
    "id": "tUZaZrRG0sGI"
   },
   "source": [
    "9. Thực hiện việc chọn ngẫu nhiên (không thay thế) 10 phần tử từ mảng trên 5 lần. Hiển thị kết quả lựa chọn mỗi lần"
   ]
  },
  {
   "cell_type": "code",
   "execution_count": null,
   "metadata": {
    "id": "tXwkCk7K0sGI"
   },
   "outputs": [],
   "source": []
  },
  {
   "cell_type": "markdown",
   "metadata": {
    "id": "G9ZoBbS_xF3Y"
   },
   "source": [
    "10. Tìm phần tử xuất hiện nhiều nhất trong mảng"
   ]
  },
  {
   "cell_type": "code",
   "execution_count": null,
   "metadata": {
    "id": "1NNgQOr_0ysP"
   },
   "outputs": [],
   "source": []
  }
 ],
 "metadata": {
  "colab": {
   "provenance": []
  },
  "kernelspec": {
   "display_name": "Python 3 (ipykernel)",
   "language": "python",
   "name": "python3"
  },
  "language_info": {
   "codemirror_mode": {
    "name": "ipython",
    "version": 3
   },
   "file_extension": ".py",
   "mimetype": "text/x-python",
   "name": "python",
   "nbconvert_exporter": "python",
   "pygments_lexer": "ipython3",
   "version": "3.11.4"
  }
 },
 "nbformat": 4,
 "nbformat_minor": 1
}
